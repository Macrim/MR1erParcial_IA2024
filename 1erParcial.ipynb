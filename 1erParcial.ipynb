{
  "nbformat": 4,
  "nbformat_minor": 0,
  "metadata": {
    "colab": {
      "provenance": []
    },
    "kernelspec": {
      "name": "python3",
      "display_name": "Python 3"
    },
    "language_info": {
      "name": "python"
    }
  },
  "cells": [
    {
      "cell_type": "code",
      "execution_count": 1,
      "metadata": {
        "colab": {
          "base_uri": "https://localhost:8080/"
        },
        "id": "6kCNgAkx6u02",
        "outputId": "a0227971-d3d0-44a9-de58-d928144d45ed"
      },
      "outputs": [
        {
          "output_type": "stream",
          "name": "stdout",
          "text": [
            "Collecting Optuna\n",
            "  Downloading optuna-4.0.0-py3-none-any.whl.metadata (16 kB)\n",
            "Collecting alembic>=1.5.0 (from Optuna)\n",
            "  Downloading alembic-1.13.2-py3-none-any.whl.metadata (7.4 kB)\n",
            "Collecting colorlog (from Optuna)\n",
            "  Downloading colorlog-6.8.2-py3-none-any.whl.metadata (10 kB)\n",
            "Requirement already satisfied: numpy in /usr/local/lib/python3.10/dist-packages (from Optuna) (1.26.4)\n",
            "Requirement already satisfied: packaging>=20.0 in /usr/local/lib/python3.10/dist-packages (from Optuna) (24.1)\n",
            "Requirement already satisfied: sqlalchemy>=1.3.0 in /usr/local/lib/python3.10/dist-packages (from Optuna) (2.0.34)\n",
            "Requirement already satisfied: tqdm in /usr/local/lib/python3.10/dist-packages (from Optuna) (4.66.5)\n",
            "Requirement already satisfied: PyYAML in /usr/local/lib/python3.10/dist-packages (from Optuna) (6.0.2)\n",
            "Collecting Mako (from alembic>=1.5.0->Optuna)\n",
            "  Downloading Mako-1.3.5-py3-none-any.whl.metadata (2.9 kB)\n",
            "Requirement already satisfied: typing-extensions>=4 in /usr/local/lib/python3.10/dist-packages (from alembic>=1.5.0->Optuna) (4.12.2)\n",
            "Requirement already satisfied: greenlet!=0.4.17 in /usr/local/lib/python3.10/dist-packages (from sqlalchemy>=1.3.0->Optuna) (3.0.3)\n",
            "Requirement already satisfied: MarkupSafe>=0.9.2 in /usr/local/lib/python3.10/dist-packages (from Mako->alembic>=1.5.0->Optuna) (2.1.5)\n",
            "Downloading optuna-4.0.0-py3-none-any.whl (362 kB)\n",
            "\u001b[2K   \u001b[90m━━━━━━━━━━━━━━━━━━━━━━━━━━━━━━━━━━━━━━━━\u001b[0m \u001b[32m362.8/362.8 kB\u001b[0m \u001b[31m9.2 MB/s\u001b[0m eta \u001b[36m0:00:00\u001b[0m\n",
            "\u001b[?25hDownloading alembic-1.13.2-py3-none-any.whl (232 kB)\n",
            "\u001b[2K   \u001b[90m━━━━━━━━━━━━━━━━━━━━━━━━━━━━━━━━━━━━━━━━\u001b[0m \u001b[32m233.0/233.0 kB\u001b[0m \u001b[31m11.7 MB/s\u001b[0m eta \u001b[36m0:00:00\u001b[0m\n",
            "\u001b[?25hDownloading colorlog-6.8.2-py3-none-any.whl (11 kB)\n",
            "Downloading Mako-1.3.5-py3-none-any.whl (78 kB)\n",
            "\u001b[2K   \u001b[90m━━━━━━━━━━━━━━━━━━━━━━━━━━━━━━━━━━━━━━━━\u001b[0m \u001b[32m78.6/78.6 kB\u001b[0m \u001b[31m4.9 MB/s\u001b[0m eta \u001b[36m0:00:00\u001b[0m\n",
            "\u001b[?25hInstalling collected packages: Mako, colorlog, alembic, Optuna\n",
            "Successfully installed Mako-1.3.5 Optuna-4.0.0 alembic-1.13.2 colorlog-6.8.2\n"
          ]
        }
      ],
      "source": [
        "!pip install Optuna"
      ]
    },
    {
      "cell_type": "code",
      "source": [
        "import pandas as pd\n",
        "import numpy as np\n",
        "import tensorflow as tf\n",
        "import optuna\n",
        "from sklearn.model_selection import train_test_split\n",
        "from sklearn.preprocessing import StandardScaler\n",
        "from tensorflow.keras.models import Sequential\n",
        "from tensorflow.keras.layers import Dense\n",
        "from tensorflow.keras.optimizers import Adam\n",
        "SEED=1234"
      ],
      "metadata": {
        "id": "vsZdHN_S63KC"
      },
      "execution_count": 2,
      "outputs": []
    },
    {
      "cell_type": "code",
      "source": [
        "# Cargar el conjunto de datos\n",
        "datos = pd.read_csv(\"Temp_Asu20092021.csv\")"
      ],
      "metadata": {
        "id": "S6itMz8w69U4"
      },
      "execution_count": 60,
      "outputs": []
    },
    {
      "cell_type": "code",
      "source": [
        "# Convertir la columna 'Fecha' al tipo datetime y establecerla como índice\n",
        "datos['Fecha'] = pd.to_datetime(datos['Fecha'])\n",
        "datos.set_index('Fecha', inplace=True)\n",
        "\n",
        "#PRIMER APORTE EN EL CODIGO\n",
        "# Interpolar valores faltantes y reindexar para tener frecuencia horaria\n",
        "datos = datos.resample('H').interpolate()"
      ],
      "metadata": {
        "id": "GPg_DLSn7Aja"
      },
      "execution_count": 61,
      "outputs": []
    },
    {
      "cell_type": "code",
      "source": [
        "# Interpolar valores faltantes y reindexar para tener frecuencia horaria\n",
        "datos = datos.resample('H').interpolate()"
      ],
      "metadata": {
        "id": "c9RsjWzJ7DrS"
      },
      "execution_count": 62,
      "outputs": []
    },
    {
      "cell_type": "code",
      "source": [
        "# Filtrar datos a partir de 2019\n",
        "datos = datos[datos.index.year >= 2019]"
      ],
      "metadata": {
        "id": "nIUMsY-t7HDJ"
      },
      "execution_count": 63,
      "outputs": []
    },
    {
      "cell_type": "code",
      "source": [
        "# Calcular los percentiles 95, 50 (mediana) y 5 para cada día\n",
        "percentiles_diarios = datos.resample('D')['Temperatura'].agg([lambda x: np.percentile(x, 95),\n",
        "                                                              lambda x: np.percentile(x, 50),\n",
        "                                                              lambda x: np.percentile(x, 5)])\n",
        "percentiles_diarios.columns = ['Percentil_95', 'Mediana', 'Percentil_5']"
      ],
      "metadata": {
        "id": "jPiI4e0y7Oju"
      },
      "execution_count": 64,
      "outputs": []
    },
    {
      "cell_type": "code",
      "source": [
        "# Desplazar para obtener los percentiles del siguiente día como variables objetivo\n",
        "percentiles_diarios['Percentil_95_siguiente_dia'] = percentiles_diarios['Percentil_95'].shift(-1)\n",
        "percentiles_diarios['Mediana_siguiente_dia'] = percentiles_diarios['Mediana'].shift(-1)\n",
        "percentiles_diarios['Percentil_5_siguiente_dia'] = percentiles_diarios['Percentil_5'].shift(-1)"
      ],
      "metadata": {
        "id": "JDfiJsA17RRV"
      },
      "execution_count": 65,
      "outputs": []
    },
    {
      "cell_type": "code",
      "source": [
        "# Crear otras variables\n",
        "#diferencias entre temperaturas horarias\n",
        "datos['Temp_diff'] = datos['Temperatura'].diff()\n",
        "#media móvil\n",
        "datos['Temp_rolling_mean'] = datos['Temperatura'].rolling(window=24).mean()\n",
        "#desviación estándar móvil\n",
        "datos['Temp_rolling_std'] = datos['Temperatura'].rolling(window=24).std()"
      ],
      "metadata": {
        "id": "MLZLLmWU-XFF"
      },
      "execution_count": 66,
      "outputs": []
    },
    {
      "cell_type": "code",
      "source": [
        "# Eliminar filas con valores faltantes\n",
        "datos.dropna(inplace=True)\n",
        "percentiles_diarios.dropna(inplace=True)\n"
      ],
      "metadata": {
        "id": "6POUq37m7KFg"
      },
      "execution_count": 67,
      "outputs": []
    },
    {
      "cell_type": "code",
      "source": [
        "# Características originales: percentiles 95, mediana y 5\n",
        "X_original = percentiles_diarios[['Percentil_95', 'Mediana', 'Percentil_5']]\n",
        "\n",
        "# Características adicionales: diferencia de temperatura, media móvil y desviación estándar móvil\n",
        "#X_nuevas = datos[['Temp_diff', 'Temp_rolling_mean', 'Temp_rolling_std']].resample('D').mean()\n",
        "\n",
        "# Seleccionar características\n",
        "X = pd.concat([X_original, X_nuevas], axis=1)\n",
        "X = X.iloc[:-1]\n",
        "#X= percentiles_diarios[['Percentil_95', 'Mediana', 'Percentil_5']]\n",
        "y = percentiles_diarios[['Percentil_95_siguiente_dia','Mediana_siguiente_dia','Percentil_5_siguiente_dia']].values"
      ],
      "metadata": {
        "id": "lbcG4Fpl7Wji"
      },
      "execution_count": 80,
      "outputs": []
    },
    {
      "cell_type": "code",
      "source": [
        "# Escalar las características\n",
        "scaler_X = StandardScaler()\n",
        "X_escalado = scaler_X.fit_transform(X)"
      ],
      "metadata": {
        "id": "zqDMwmmM7ZVb"
      },
      "execution_count": 81,
      "outputs": []
    },
    {
      "cell_type": "code",
      "source": [
        "# Dividir datos en conjuntos de entrenamiento y validación\n",
        "X_entrenamiento, X_validacion, y_entrenamiento, y_validacion = train_test_split(X_escalado, y, test_size=0.2, random_state=SEED, shuffle=False)"
      ],
      "metadata": {
        "id": "GPJvSPPW7bpI"
      },
      "execution_count": 82,
      "outputs": []
    },
    {
      "cell_type": "code",
      "source": [
        "# Definir función objetivo para Optuna\n",
        "def objetivo(trial):\n",
        "    num_capas = 1\n",
        "    tf.keras.utils.set_random_seed(SEED)\n",
        "\n",
        "    num_capas = 1\n",
        "    num_unidades = trial.suggest_categorical('num_unidades', [16, 32, 64])\n",
        "\n",
        "\n",
        "    # Definir la arquitectura del modelo\n",
        "    modelo = Sequential()\n",
        "    modelo.add(Dense(num_unidades, activation='relu', input_shape=(X_entrenamiento.shape[1],)))\n",
        "    for _ in range(num_capas - 1):\n",
        "        modelo.add(Dense(num_unidades, activation='relu'))\n",
        "\n",
        "    # Capa de salida para predecir los 3 percentiles (95, 50, 5)\n",
        "    modelo.add(Dense(3, activation='linear'))\n",
        "\n",
        "    # Compilar el modelo\n",
        "    modelo.compile(optimizer=Adam(),\n",
        "                   loss='mse',  # Para regresión, se usa 'mean squared error'\n",
        "                   metrics=['mae'])  # Mean Absolute Error (MAE) para evaluación\n",
        "\n",
        "    # Entrenar el modelo\n",
        "    modelo.fit(X_entrenamiento, y_entrenamiento, validation_data=(X_validacion, y_validacion), epochs=30, batch_size=256, verbose=0, shuffle=False)\n",
        "\n",
        "    # Evaluar el modelo en el conjunto de validación\n",
        "    _, val_mae = modelo.evaluate(X_validacion, y_validacion, verbose=0)\n",
        "\n",
        "    return val_mae"
      ],
      "metadata": {
        "id": "9wpQrnRY7hYs"
      },
      "execution_count": 14,
      "outputs": []
    },
    {
      "cell_type": "code",
      "source": [
        "# Realizar la optimización de hiperparámetros usando Optuna\n",
        "estudio = optuna.create_study(direction='minimize')  # Minimizamos el MAE en lugar de maximizar\n",
        "estudio.optimize(objetivo, n_trials=10)"
      ],
      "metadata": {
        "colab": {
          "base_uri": "https://localhost:8080/"
        },
        "id": "pYmn95427k7f",
        "outputId": "c39b7bf8-b4a2-4933-bdfc-a4a61e6b2c60"
      },
      "execution_count": 15,
      "outputs": [
        {
          "output_type": "stream",
          "name": "stderr",
          "text": [
            "[I 2024-09-11 21:11:28,612] A new study created in memory with name: no-name-871f2db6-f592-4ee1-9b3e-e4f0ec1f3e2d\n",
            "/usr/local/lib/python3.10/dist-packages/keras/src/layers/core/dense.py:87: UserWarning: Do not pass an `input_shape`/`input_dim` argument to a layer. When using Sequential models, prefer using an `Input(shape)` object as the first layer in the model instead.\n",
            "  super().__init__(activity_regularizer=activity_regularizer, **kwargs)\n",
            "[I 2024-09-11 21:11:32,250] Trial 0 finished with value: 20.432693481445312 and parameters: {'num_unidades': 64}. Best is trial 0 with value: 20.432693481445312.\n",
            "[I 2024-09-11 21:11:35,617] Trial 1 finished with value: 21.130168914794922 and parameters: {'num_unidades': 32}. Best is trial 0 with value: 20.432693481445312.\n",
            "[I 2024-09-11 21:11:38,634] Trial 2 finished with value: 21.94194221496582 and parameters: {'num_unidades': 16}. Best is trial 0 with value: 20.432693481445312.\n",
            "[I 2024-09-11 21:11:42,951] Trial 3 finished with value: 21.130168914794922 and parameters: {'num_unidades': 32}. Best is trial 0 with value: 20.432693481445312.\n",
            "[I 2024-09-11 21:11:46,752] Trial 4 finished with value: 21.94194221496582 and parameters: {'num_unidades': 16}. Best is trial 0 with value: 20.432693481445312.\n",
            "[I 2024-09-11 21:11:49,794] Trial 5 finished with value: 21.130168914794922 and parameters: {'num_unidades': 32}. Best is trial 0 with value: 20.432693481445312.\n",
            "[I 2024-09-11 21:11:54,994] Trial 6 finished with value: 21.94194221496582 and parameters: {'num_unidades': 16}. Best is trial 0 with value: 20.432693481445312.\n",
            "[I 2024-09-11 21:11:58,659] Trial 7 finished with value: 20.432693481445312 and parameters: {'num_unidades': 64}. Best is trial 0 with value: 20.432693481445312.\n",
            "[I 2024-09-11 21:12:01,668] Trial 8 finished with value: 20.432693481445312 and parameters: {'num_unidades': 64}. Best is trial 0 with value: 20.432693481445312.\n",
            "[I 2024-09-11 21:12:04,895] Trial 9 finished with value: 21.94194221496582 and parameters: {'num_unidades': 16}. Best is trial 0 with value: 20.432693481445312.\n"
          ]
        }
      ]
    },
    {
      "cell_type": "code",
      "source": [
        "# Obtener los mejores hiperparámetros\n",
        "mejor_num_capas =  1\n",
        "mejor_num_unidades = estudio.best_params['num_unidades']\n",
        "\n",
        "print(\"Mejores Hiperparámetros:\")\n",
        "print(\"Número de Capas:\", 1)\n",
        "print(\"Número de Unidades:\", mejor_num_unidades)"
      ],
      "metadata": {
        "colab": {
          "base_uri": "https://localhost:8080/"
        },
        "id": "4zdVT7Qy7pUn",
        "outputId": "48accf2e-dcbb-4b3e-c2a6-ddd4f419e87a"
      },
      "execution_count": 18,
      "outputs": [
        {
          "output_type": "stream",
          "name": "stdout",
          "text": [
            "Mejores Hiperparámetros:\n",
            "Número de Capas: 1\n",
            "Número de Unidades: 64\n"
          ]
        }
      ]
    },
    {
      "cell_type": "code",
      "source": [
        "# Entrenar el modelo final usando los mejores hiperparámetros\n",
        "modelo_final = Sequential()\n",
        "modelo_final.add(Dense(mejor_num_unidades, activation='relu', input_shape=(X_entrenamiento.shape[1],)))\n",
        "for _ in range(mejor_num_capas - 1):\n",
        "    modelo_final.add(Dense(mejor_num_unidades, activation='relu'))\n",
        "modelo_final.add(Dense(3, activation='linear'))\n",
        "\n",
        "modelo_final.compile(optimizer=tf.keras.optimizers.Adam(),\n",
        "                     loss='mse',\n",
        "                     metrics=['mae'])"
      ],
      "metadata": {
        "id": "kdcC1QSG7w-M"
      },
      "execution_count": 19,
      "outputs": []
    },
    {
      "cell_type": "code",
      "source": [
        "# Entrenar el modelo final\n",
        "modelo_final.fit(X_entrenamiento, y_entrenamiento, validation_data=(X_validacion, y_validacion), epochs=50, batch_size=256, verbose=1, shuffle=False)"
      ],
      "metadata": {
        "colab": {
          "base_uri": "https://localhost:8080/"
        },
        "id": "HvIrYx6h76bu",
        "outputId": "1b115f87-a663-4572-b2aa-414771613226"
      },
      "execution_count": 20,
      "outputs": [
        {
          "output_type": "stream",
          "name": "stdout",
          "text": [
            "Epoch 1/50\n",
            "\u001b[1m4/4\u001b[0m \u001b[32m━━━━━━━━━━━━━━━━━━━━\u001b[0m\u001b[37m\u001b[0m \u001b[1m1s\u001b[0m 65ms/step - loss: 629.8170 - mae: 23.9941 - val_loss: 589.0117 - val_mae: 22.9169\n",
            "Epoch 2/50\n",
            "\u001b[1m4/4\u001b[0m \u001b[32m━━━━━━━━━━━━━━━━━━━━\u001b[0m\u001b[37m\u001b[0m \u001b[1m0s\u001b[0m 16ms/step - loss: 626.9188 - mae: 23.9338 - val_loss: 586.2498 - val_mae: 22.8544\n",
            "Epoch 3/50\n",
            "\u001b[1m4/4\u001b[0m \u001b[32m━━━━━━━━━━━━━━━━━━━━\u001b[0m\u001b[37m\u001b[0m \u001b[1m0s\u001b[0m 12ms/step - loss: 624.0053 - mae: 23.8731 - val_loss: 583.4566 - val_mae: 22.7911\n",
            "Epoch 4/50\n",
            "\u001b[1m4/4\u001b[0m \u001b[32m━━━━━━━━━━━━━━━━━━━━\u001b[0m\u001b[37m\u001b[0m \u001b[1m0s\u001b[0m 12ms/step - loss: 621.0536 - mae: 23.8115 - val_loss: 580.6237 - val_mae: 22.7267\n",
            "Epoch 5/50\n",
            "\u001b[1m4/4\u001b[0m \u001b[32m━━━━━━━━━━━━━━━━━━━━\u001b[0m\u001b[37m\u001b[0m \u001b[1m0s\u001b[0m 12ms/step - loss: 618.0551 - mae: 23.7488 - val_loss: 577.7426 - val_mae: 22.6611\n",
            "Epoch 6/50\n",
            "\u001b[1m4/4\u001b[0m \u001b[32m━━━━━━━━━━━━━━━━━━━━\u001b[0m\u001b[37m\u001b[0m \u001b[1m0s\u001b[0m 15ms/step - loss: 615.0005 - mae: 23.6848 - val_loss: 574.8023 - val_mae: 22.5939\n",
            "Epoch 7/50\n",
            "\u001b[1m4/4\u001b[0m \u001b[32m━━━━━━━━━━━━━━━━━━━━\u001b[0m\u001b[37m\u001b[0m \u001b[1m0s\u001b[0m 12ms/step - loss: 611.8785 - mae: 23.6192 - val_loss: 571.7953 - val_mae: 22.5250\n",
            "Epoch 8/50\n",
            "\u001b[1m4/4\u001b[0m \u001b[32m━━━━━━━━━━━━━━━━━━━━\u001b[0m\u001b[37m\u001b[0m \u001b[1m0s\u001b[0m 12ms/step - loss: 608.6756 - mae: 23.5516 - val_loss: 568.7111 - val_mae: 22.4539\n",
            "Epoch 9/50\n",
            "\u001b[1m4/4\u001b[0m \u001b[32m━━━━━━━━━━━━━━━━━━━━\u001b[0m\u001b[37m\u001b[0m \u001b[1m0s\u001b[0m 12ms/step - loss: 605.3808 - mae: 23.4819 - val_loss: 565.5387 - val_mae: 22.3804\n",
            "Epoch 10/50\n",
            "\u001b[1m4/4\u001b[0m \u001b[32m━━━━━━━━━━━━━━━━━━━━\u001b[0m\u001b[37m\u001b[0m \u001b[1m0s\u001b[0m 12ms/step - loss: 601.9828 - mae: 23.4096 - val_loss: 562.2684 - val_mae: 22.3042\n",
            "Epoch 11/50\n",
            "\u001b[1m4/4\u001b[0m \u001b[32m━━━━━━━━━━━━━━━━━━━━\u001b[0m\u001b[37m\u001b[0m \u001b[1m0s\u001b[0m 12ms/step - loss: 598.4717 - mae: 23.3346 - val_loss: 558.8925 - val_mae: 22.2252\n",
            "Epoch 12/50\n",
            "\u001b[1m4/4\u001b[0m \u001b[32m━━━━━━━━━━━━━━━━━━━━\u001b[0m\u001b[37m\u001b[0m \u001b[1m0s\u001b[0m 13ms/step - loss: 594.8397 - mae: 23.2567 - val_loss: 555.4047 - val_mae: 22.1430\n",
            "Epoch 13/50\n",
            "\u001b[1m4/4\u001b[0m \u001b[32m━━━━━━━━━━━━━━━━━━━━\u001b[0m\u001b[37m\u001b[0m \u001b[1m0s\u001b[0m 18ms/step - loss: 591.0787 - mae: 23.1755 - val_loss: 551.7996 - val_mae: 22.0575\n",
            "Epoch 14/50\n",
            "\u001b[1m4/4\u001b[0m \u001b[32m━━━━━━━━━━━━━━━━━━━━\u001b[0m\u001b[37m\u001b[0m \u001b[1m0s\u001b[0m 15ms/step - loss: 587.1815 - mae: 23.0910 - val_loss: 548.0682 - val_mae: 21.9691\n",
            "Epoch 15/50\n",
            "\u001b[1m4/4\u001b[0m \u001b[32m━━━━━━━━━━━━━━━━━━━━\u001b[0m\u001b[37m\u001b[0m \u001b[1m0s\u001b[0m 12ms/step - loss: 583.1402 - mae: 23.0030 - val_loss: 544.2015 - val_mae: 21.8772\n",
            "Epoch 16/50\n",
            "\u001b[1m4/4\u001b[0m \u001b[32m━━━━━━━━━━━━━━━━━━━━\u001b[0m\u001b[37m\u001b[0m \u001b[1m0s\u001b[0m 12ms/step - loss: 578.9478 - mae: 22.9114 - val_loss: 540.1975 - val_mae: 21.7824\n",
            "Epoch 17/50\n",
            "\u001b[1m4/4\u001b[0m \u001b[32m━━━━━━━━━━━━━━━━━━━━\u001b[0m\u001b[37m\u001b[0m \u001b[1m0s\u001b[0m 16ms/step - loss: 574.6002 - mae: 22.8159 - val_loss: 536.0528 - val_mae: 21.6840\n",
            "Epoch 18/50\n",
            "\u001b[1m4/4\u001b[0m \u001b[32m━━━━━━━━━━━━━━━━━━━━\u001b[0m\u001b[37m\u001b[0m \u001b[1m0s\u001b[0m 15ms/step - loss: 570.0936 - mae: 22.7162 - val_loss: 531.7639 - val_mae: 21.5816\n",
            "Epoch 19/50\n",
            "\u001b[1m4/4\u001b[0m \u001b[32m━━━━━━━━━━━━━━━━━━━━\u001b[0m\u001b[37m\u001b[0m \u001b[1m0s\u001b[0m 13ms/step - loss: 565.4238 - mae: 22.6122 - val_loss: 527.3267 - val_mae: 21.4749\n",
            "Epoch 20/50\n",
            "\u001b[1m4/4\u001b[0m \u001b[32m━━━━━━━━━━━━━━━━━━━━\u001b[0m\u001b[37m\u001b[0m \u001b[1m0s\u001b[0m 13ms/step - loss: 560.5902 - mae: 22.5038 - val_loss: 522.7440 - val_mae: 21.3638\n",
            "Epoch 21/50\n",
            "\u001b[1m4/4\u001b[0m \u001b[32m━━━━━━━━━━━━━━━━━━━━\u001b[0m\u001b[37m\u001b[0m \u001b[1m0s\u001b[0m 12ms/step - loss: 555.5902 - mae: 22.3910 - val_loss: 518.0139 - val_mae: 21.2490\n",
            "Epoch 22/50\n",
            "\u001b[1m4/4\u001b[0m \u001b[32m━━━━━━━━━━━━━━━━━━━━\u001b[0m\u001b[37m\u001b[0m \u001b[1m0s\u001b[0m 12ms/step - loss: 550.4227 - mae: 22.2736 - val_loss: 513.1340 - val_mae: 21.1296\n",
            "Epoch 23/50\n",
            "\u001b[1m4/4\u001b[0m \u001b[32m━━━━━━━━━━━━━━━━━━━━\u001b[0m\u001b[37m\u001b[0m \u001b[1m0s\u001b[0m 13ms/step - loss: 545.0899 - mae: 22.1518 - val_loss: 508.1077 - val_mae: 21.0056\n",
            "Epoch 24/50\n",
            "\u001b[1m4/4\u001b[0m \u001b[32m━━━━━━━━━━━━━━━━━━━━\u001b[0m\u001b[37m\u001b[0m \u001b[1m0s\u001b[0m 14ms/step - loss: 539.5931 - mae: 22.0253 - val_loss: 502.9350 - val_mae: 20.8768\n",
            "Epoch 25/50\n",
            "\u001b[1m4/4\u001b[0m \u001b[32m━━━━━━━━━━━━━━━━━━━━\u001b[0m\u001b[37m\u001b[0m \u001b[1m0s\u001b[0m 21ms/step - loss: 533.9356 - mae: 21.8941 - val_loss: 497.6212 - val_mae: 20.7434\n",
            "Epoch 26/50\n",
            "\u001b[1m4/4\u001b[0m \u001b[32m━━━━━━━━━━━━━━━━━━━━\u001b[0m\u001b[37m\u001b[0m \u001b[1m0s\u001b[0m 13ms/step - loss: 528.1194 - mae: 21.7586 - val_loss: 492.1681 - val_mae: 20.6056\n",
            "Epoch 27/50\n",
            "\u001b[1m4/4\u001b[0m \u001b[32m━━━━━━━━━━━━━━━━━━━━\u001b[0m\u001b[37m\u001b[0m \u001b[1m0s\u001b[0m 13ms/step - loss: 522.1489 - mae: 21.6184 - val_loss: 486.5816 - val_mae: 20.4638\n",
            "Epoch 28/50\n",
            "\u001b[1m4/4\u001b[0m \u001b[32m━━━━━━━━━━━━━━━━━━━━\u001b[0m\u001b[37m\u001b[0m \u001b[1m0s\u001b[0m 13ms/step - loss: 516.0276 - mae: 21.4733 - val_loss: 480.8702 - val_mae: 20.3179\n",
            "Epoch 29/50\n",
            "\u001b[1m4/4\u001b[0m \u001b[32m━━━━━━━━━━━━━━━━━━━━\u001b[0m\u001b[37m\u001b[0m \u001b[1m0s\u001b[0m 17ms/step - loss: 509.7603 - mae: 21.3237 - val_loss: 475.0388 - val_mae: 20.1673\n",
            "Epoch 30/50\n",
            "\u001b[1m4/4\u001b[0m \u001b[32m━━━━━━━━━━━━━━━━━━━━\u001b[0m\u001b[37m\u001b[0m \u001b[1m0s\u001b[0m 18ms/step - loss: 503.3511 - mae: 21.1696 - val_loss: 469.0951 - val_mae: 20.0122\n",
            "Epoch 31/50\n",
            "\u001b[1m4/4\u001b[0m \u001b[32m━━━━━━━━━━━━━━━━━━━━\u001b[0m\u001b[37m\u001b[0m \u001b[1m0s\u001b[0m 13ms/step - loss: 496.8053 - mae: 21.0113 - val_loss: 463.0425 - val_mae: 19.8526\n",
            "Epoch 32/50\n",
            "\u001b[1m4/4\u001b[0m \u001b[32m━━━━━━━━━━━━━━━━━━━━\u001b[0m\u001b[37m\u001b[0m \u001b[1m0s\u001b[0m 12ms/step - loss: 490.1277 - mae: 20.8486 - val_loss: 456.8887 - val_mae: 19.6890\n",
            "Epoch 33/50\n",
            "\u001b[1m4/4\u001b[0m \u001b[32m━━━━━━━━━━━━━━━━━━━━\u001b[0m\u001b[37m\u001b[0m \u001b[1m0s\u001b[0m 14ms/step - loss: 483.3239 - mae: 20.6817 - val_loss: 450.6400 - val_mae: 19.5214\n",
            "Epoch 34/50\n",
            "\u001b[1m4/4\u001b[0m \u001b[32m━━━━━━━━━━━━━━━━━━━━\u001b[0m\u001b[37m\u001b[0m \u001b[1m0s\u001b[0m 14ms/step - loss: 476.3990 - mae: 20.5106 - val_loss: 444.3005 - val_mae: 19.3499\n",
            "Epoch 35/50\n",
            "\u001b[1m4/4\u001b[0m \u001b[32m━━━━━━━━━━━━━━━━━━━━\u001b[0m\u001b[37m\u001b[0m \u001b[1m0s\u001b[0m 13ms/step - loss: 469.3590 - mae: 20.3351 - val_loss: 437.8763 - val_mae: 19.1740\n",
            "Epoch 36/50\n",
            "\u001b[1m4/4\u001b[0m \u001b[32m━━━━━━━━━━━━━━━━━━━━\u001b[0m\u001b[37m\u001b[0m \u001b[1m0s\u001b[0m 15ms/step - loss: 462.2098 - mae: 20.1554 - val_loss: 431.3743 - val_mae: 18.9959\n",
            "Epoch 37/50\n",
            "\u001b[1m4/4\u001b[0m \u001b[32m━━━━━━━━━━━━━━━━━━━━\u001b[0m\u001b[37m\u001b[0m \u001b[1m0s\u001b[0m 14ms/step - loss: 454.9567 - mae: 19.9719 - val_loss: 424.8020 - val_mae: 18.8171\n",
            "Epoch 38/50\n",
            "\u001b[1m4/4\u001b[0m \u001b[32m━━━━━━━━━━━━━━━━━━━━\u001b[0m\u001b[37m\u001b[0m \u001b[1m0s\u001b[0m 12ms/step - loss: 447.6082 - mae: 19.7859 - val_loss: 418.1692 - val_mae: 18.6374\n",
            "Epoch 39/50\n",
            "\u001b[1m4/4\u001b[0m \u001b[32m━━━━━━━━━━━━━━━━━━━━\u001b[0m\u001b[37m\u001b[0m \u001b[1m0s\u001b[0m 12ms/step - loss: 440.1717 - mae: 19.5964 - val_loss: 411.4839 - val_mae: 18.4590\n",
            "Epoch 40/50\n",
            "\u001b[1m4/4\u001b[0m \u001b[32m━━━━━━━━━━━━━━━━━━━━\u001b[0m\u001b[37m\u001b[0m \u001b[1m0s\u001b[0m 12ms/step - loss: 432.6537 - mae: 19.4040 - val_loss: 404.7523 - val_mae: 18.2821\n",
            "Epoch 41/50\n",
            "\u001b[1m4/4\u001b[0m \u001b[32m━━━━━━━━━━━━━━━━━━━━\u001b[0m\u001b[37m\u001b[0m \u001b[1m0s\u001b[0m 13ms/step - loss: 425.0627 - mae: 19.2084 - val_loss: 397.9820 - val_mae: 18.1035\n",
            "Epoch 42/50\n",
            "\u001b[1m4/4\u001b[0m \u001b[32m━━━━━━━━━━━━━━━━━━━━\u001b[0m\u001b[37m\u001b[0m \u001b[1m0s\u001b[0m 12ms/step - loss: 417.4079 - mae: 19.0103 - val_loss: 391.1832 - val_mae: 17.9233\n",
            "Epoch 43/50\n",
            "\u001b[1m4/4\u001b[0m \u001b[32m━━━━━━━━━━━━━━━━━━━━\u001b[0m\u001b[37m\u001b[0m \u001b[1m0s\u001b[0m 12ms/step - loss: 409.6989 - mae: 18.8094 - val_loss: 384.3646 - val_mae: 17.7438\n",
            "Epoch 44/50\n",
            "\u001b[1m4/4\u001b[0m \u001b[32m━━━━━━━━━━━━━━━━━━━━\u001b[0m\u001b[37m\u001b[0m \u001b[1m0s\u001b[0m 12ms/step - loss: 401.9452 - mae: 18.6063 - val_loss: 377.5343 - val_mae: 17.5612\n",
            "Epoch 45/50\n",
            "\u001b[1m4/4\u001b[0m \u001b[32m━━━━━━━━━━━━━━━━━━━━\u001b[0m\u001b[37m\u001b[0m \u001b[1m0s\u001b[0m 18ms/step - loss: 394.1564 - mae: 18.4006 - val_loss: 370.7021 - val_mae: 17.3771\n",
            "Epoch 46/50\n",
            "\u001b[1m4/4\u001b[0m \u001b[32m━━━━━━━━━━━━━━━━━━━━\u001b[0m\u001b[37m\u001b[0m \u001b[1m0s\u001b[0m 15ms/step - loss: 386.3417 - mae: 18.1924 - val_loss: 363.8753 - val_mae: 17.1940\n",
            "Epoch 47/50\n",
            "\u001b[1m4/4\u001b[0m \u001b[32m━━━━━━━━━━━━━━━━━━━━\u001b[0m\u001b[37m\u001b[0m \u001b[1m0s\u001b[0m 16ms/step - loss: 378.5095 - mae: 17.9818 - val_loss: 357.0594 - val_mae: 17.0109\n",
            "Epoch 48/50\n",
            "\u001b[1m4/4\u001b[0m \u001b[32m━━━━━━━━━━━━━━━━━━━━\u001b[0m\u001b[37m\u001b[0m \u001b[1m0s\u001b[0m 13ms/step - loss: 370.6698 - mae: 17.7693 - val_loss: 350.2599 - val_mae: 16.8267\n",
            "Epoch 49/50\n",
            "\u001b[1m4/4\u001b[0m \u001b[32m━━━━━━━━━━━━━━━━━━━━\u001b[0m\u001b[37m\u001b[0m \u001b[1m0s\u001b[0m 13ms/step - loss: 362.8323 - mae: 17.5569 - val_loss: 343.4874 - val_mae: 16.6419\n",
            "Epoch 50/50\n",
            "\u001b[1m4/4\u001b[0m \u001b[32m━━━━━━━━━━━━━━━━━━━━\u001b[0m\u001b[37m\u001b[0m \u001b[1m0s\u001b[0m 12ms/step - loss: 355.0083 - mae: 17.3425 - val_loss: 336.7516 - val_mae: 16.4587\n"
          ]
        },
        {
          "output_type": "execute_result",
          "data": {
            "text/plain": [
              "<keras.src.callbacks.history.History at 0x7f6da7afb9a0>"
            ]
          },
          "metadata": {},
          "execution_count": 20
        }
      ]
    },
    {
      "cell_type": "code",
      "source": [
        "# Evaluar en conjunto de prueba\n",
        "mae = modelo_final.evaluate(X_validacion, y_validacion, verbose=0)\n",
        "print(f'MAE en validación: {mae}')"
      ],
      "metadata": {
        "colab": {
          "base_uri": "https://localhost:8080/"
        },
        "id": "0aNNbOwr7-9c",
        "outputId": "56f8ec67-8ed5-46db-c1e0-7ec25cda831f"
      },
      "execution_count": 21,
      "outputs": [
        {
          "output_type": "stream",
          "name": "stdout",
          "text": [
            "MAE en validación: [336.75152587890625, 16.458694458007812]\n"
          ]
        }
      ]
    }
  ]
}